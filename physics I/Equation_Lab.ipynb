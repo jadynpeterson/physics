{
  "nbformat": 4,
  "nbformat_minor": 0,
  "metadata": {
    "colab": {
      "name": "Equation Lab",
      "provenance": [],
      "authorship_tag": "ABX9TyP5MdQgV+WIVbdbsbocxJF2",
      "include_colab_link": true
    },
    "kernelspec": {
      "name": "python3",
      "display_name": "Python 3"
    }
  },
  "cells": [
    {
      "cell_type": "markdown",
      "metadata": {
        "id": "view-in-github",
        "colab_type": "text"
      },
      "source": [
        "<a href=\"https://colab.research.google.com/github/jadynpeterson/physics/blob/master/Equation_Lab.ipynb\" target=\"_parent\"><img src=\"https://colab.research.google.com/assets/colab-badge.svg\" alt=\"Open In Colab\"/></a>"
      ]
    },
    {
      "cell_type": "code",
      "metadata": {
        "id": "7y_j0HyWsLEv"
      },
      "source": [
        "import numpy as np"
      ],
      "execution_count": 12,
      "outputs": []
    },
    {
      "cell_type": "code",
      "metadata": {
        "id": "Z2NW_ELZswqN"
      },
      "source": [
        "def rule1(dA):\n",
        "    dQ=c(dA)\n",
        "    return dQ\n",
        "\n",
        "    dA=0.5\n",
        "\n",
        "    dQ=rule1(dA)\n",
        "\n",
        "    print (\"dQ=\",dQ)"
      ],
      "execution_count": 16,
      "outputs": []
    },
    {
      "cell_type": "code",
      "metadata": {
        "id": "pfpCrUr-wkew"
      },
      "source": [
        "def rule2(dA):\n",
        "  dQ=cm(A**(m-1))(dA)\n",
        "  return dQ\n",
        "\n",
        "  dA= 0.5\n",
        "\n",
        "  dQ= rule2(dA)\n",
        "\n",
        "  print (\"dQ=\",dQ)"
      ],
      "execution_count": 21,
      "outputs": []
    },
    {
      "cell_type": "code",
      "metadata": {
        "id": "eatvyaVmuC-Y"
      },
      "source": [
        "def rule3(dA, dB):\n",
        "  dQ= np.sqrt(dA**2+dB**2)\n",
        "  return dQ\n",
        "\n",
        "  dA= 0.5\n",
        "  dB=0.1\n",
        "\n",
        "  dQ=rule3(dA, dB)\n",
        "\n",
        "  print (\"dQ=\",dQ)"
      ],
      "execution_count": 17,
      "outputs": []
    },
    {
      "cell_type": "code",
      "metadata": {
        "id": "lg7DVEZCxbg-"
      },
      "source": [
        "def rule4(dA, dB):\n",
        "  dQ= np.sqrt((dA/A)**2(dB/B)**2)\n",
        "  return dQ\n",
        "\n",
        "  dA=0.5\n",
        "  dB=0.1\n",
        "\n",
        "  dQ=rule4(dA, dB)\n",
        "\n",
        "  print(\"dQ=\",dQ)"
      ],
      "execution_count": 23,
      "outputs": []
    },
    {
      "cell_type": "code",
      "metadata": {
        "id": "QnTKWxFiyZPu",
        "outputId": "7d37c3ac-7379-492e-c205-76167234f484",
        "colab": {
          "base_uri": "https://localhost:8080/",
          "height": 51
        }
      },
      "source": [
        "x = np.array([1.1,1.3,1.4,0.9,0.95,1.05])\n",
        "\n",
        "print(np.std(x))\n",
        "print(np.average(x))"
      ],
      "execution_count": 25,
      "outputs": [
        {
          "output_type": "stream",
          "text": [
            "0.17950549357115014\n",
            "1.1166666666666667\n"
          ],
          "name": "stdout"
        }
      ]
    },
    {
      "cell_type": "markdown",
      "metadata": {
        "id": "vTRsnWblzMnw"
      },
      "source": [
        "The standard dev of the data set is 0.1795"
      ]
    },
    {
      "cell_type": "markdown",
      "metadata": {
        "id": "52fgusnCzYou"
      },
      "source": [
        "The average of the data set is 1.117"
      ]
    },
    {
      "cell_type": "markdown",
      "metadata": {
        "id": "7NC7khzJzt53"
      },
      "source": [
        "# Rule 3"
      ]
    },
    {
      "cell_type": "markdown",
      "metadata": {
        "id": "_OFzntg6z1PP"
      },
      "source": [
        "$\\delta Q = \\sqrt{(deltaA)^2+(deltaB)^2}**bold text**$"
      ]
    },
    {
      "cell_type": "markdown",
      "metadata": {
        "id": "QV0JaXPt0cII"
      },
      "source": [
        "$\\delta \\Sigma Fc = {((4\\pi)^2mr)/(T^2)}$"
      ]
    },
    {
      "cell_type": "markdown",
      "metadata": {
        "id": "HA6IZixt2BYd"
      },
      "source": [
        ""
      ]
    }
  ]
}
